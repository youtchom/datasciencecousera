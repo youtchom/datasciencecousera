{
 "cells": [
  {
   "cell_type": "markdown",
   "id": "9b3a1fd7-1208-4d05-90ff-8dc18dc6abd2",
   "metadata": {
    "jupyter": {
     "source_hidden": true
    }
   },
   "source": [
    "# Data Science Tools and Ecosystem"
   ]
  },
  {
   "cell_type": "markdown",
   "id": "890683a9-f04e-42e6-9c0a-32a09ce3cb04",
   "metadata": {},
   "source": [
    "In this notebook, Data Science Tools and Ecosystem are summarized."
   ]
  },
  {
   "cell_type": "markdown",
   "id": "c50fbe7b-cd45-45a0-8b77-68e130e8f731",
   "metadata": {},
   "source": [
    "**Objectives:**\n",
    "- List popular languages for Data Science\n",
    "- Evaluating a mathetimatical expression\n",
    "- Table of Data Science Tools"
   ]
  },
  {
   "cell_type": "markdown",
   "id": "6b5e5cdf-2097-4b49-8a28-73f57cf0cbd1",
   "metadata": {},
   "source": [
    "Some of the popular languages that Data Scientists use are:\n",
    "\n",
    "1. R\n",
    "2. Python\n",
    "3. Scala\n",
    "4. SQL"
   ]
  },
  {
   "cell_type": "markdown",
   "id": "48a73ddb-3f93-4787-a4ef-df9e4bd8288b",
   "metadata": {},
   "source": [
    "Some of the commonly used libraries used by Data Scientists include:\n",
    "\n",
    "1. ggplot\n",
    "2. dplr\n",
    "3. pandas\n",
    "4. matplotlib\n",
    "5. numpy"
   ]
  },
  {
   "cell_type": "markdown",
   "id": "8d8920db-039f-4131-a1f8-e3c84826116e",
   "metadata": {},
   "source": [
    "|Data Science Tools.|\n",
    "| ----------- |\n",
    "| RStudio |\n",
    "| Jupyter Notebook |\n",
    "| Aaconda |"
   ]
  },
  {
   "cell_type": "markdown",
   "id": "c7a56198-b2c0-4d86-ba0f-ed1d0f1c0b1a",
   "metadata": {},
   "source": [
    "### Below are a few examples of evaluating arithmetic expressions in Python"
   ]
  },
  {
   "cell_type": "code",
   "execution_count": 2,
   "id": "273ae0b0-9813-42cd-a11a-cf2e49a6fb4f",
   "metadata": {},
   "outputs": [
    {
     "data": {
      "text/plain": [
       "17"
      ]
     },
     "execution_count": 2,
     "metadata": {},
     "output_type": "execute_result"
    }
   ],
   "source": [
    "##This a simple arithmetic expression to mutiply then add integers\n",
    "\n",
    "(3*4)+5"
   ]
  },
  {
   "cell_type": "code",
   "execution_count": 3,
   "id": "72005d76-13eb-4069-a86f-1d8dc9ab167d",
   "metadata": {},
   "outputs": [
    {
     "data": {
      "text/plain": [
       "3.3333333333333335"
      ]
     },
     "execution_count": 3,
     "metadata": {},
     "output_type": "execute_result"
    }
   ],
   "source": [
    "## This will convert 200 minutes to hours by diving by 60\n",
    "\n",
    "200 / 60"
   ]
  },
  {
   "cell_type": "markdown",
   "id": "e57dd2f7-6df8-4440-9e2f-379a6258c576",
   "metadata": {},
   "source": [
    "## Arthur\n",
    "Emmanuel Youtchom"
   ]
  }
 ],
 "metadata": {
  "kernelspec": {
   "display_name": "Python 3 (ipykernel)",
   "language": "python",
   "name": "python3"
  },
  "language_info": {
   "codemirror_mode": {
    "name": "ipython",
    "version": 3
   },
   "file_extension": ".py",
   "mimetype": "text/x-python",
   "name": "python",
   "nbconvert_exporter": "python",
   "pygments_lexer": "ipython3",
   "version": "3.12.8"
  }
 },
 "nbformat": 4,
 "nbformat_minor": 5
}
